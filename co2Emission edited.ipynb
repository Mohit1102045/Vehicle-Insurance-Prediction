{
 "cells": [
  {
   "cell_type": "code",
   "execution_count": null,
   "metadata": {},
   "outputs": [],
   "source": [
    "import pandas as pd\n",
    "import numpy as np\n",
    "import matplotlib.pyplot as plt\n",
    "%matplotlib inline\n",
    "import seaborn as sns\n",
    "from sklearn.linear_model import LinearRegression, Lasso, Ridge\n",
    "from sklearn.tree import DecisionTreeRegressor\n",
    "from sklearn.ensemble import RandomForestRegressor\n",
    "from sklearn.svm import SVR\n",
    "from sklearn.metrics import mean_squared_error ,r2_score, mean_absolute_error\n"
   ]
  },
  {
   "cell_type": "code",
   "execution_count": null,
   "metadata": {},
   "outputs": [],
   "source": [
    "# Importing data"
   ]
  },
  {
   "cell_type": "code",
   "execution_count": null,
   "metadata": {},
   "outputs": [],
   "source": [
    "ds = pd.read_csv('CO2 Emissions_India.csv')"
   ]
  },
  {
   "cell_type": "code",
   "execution_count": null,
   "metadata": {},
   "outputs": [],
   "source": [
    "ds.head()"
   ]
  },
  {
   "cell_type": "code",
   "execution_count": null,
   "metadata": {},
   "outputs": [],
   "source": [
    "# Renaming columns"
   ]
  },
  {
   "cell_type": "code",
   "execution_count": null,
   "metadata": {},
   "outputs": [],
   "source": [
    "ds.rename(columns={'CO2 Emissions(g/km)':'CO2_emission'}, inplace=True)"
   ]
  },
  {
   "cell_type": "code",
   "execution_count": null,
   "metadata": {
    "scrolled": true
   },
   "outputs": [],
   "source": [
    "ds.head()"
   ]
  },
  {
   "cell_type": "markdown",
   "metadata": {},
   "source": [
    "# Exploratory Data Analysis"
   ]
  },
  {
   "cell_type": "code",
   "execution_count": null,
   "metadata": {},
   "outputs": [],
   "source": [
    "# Checking for the data types and null values\n",
    "\n",
    "ds.info()"
   ]
  },
  {
   "cell_type": "code",
   "execution_count": null,
   "metadata": {},
   "outputs": [],
   "source": [
    "# Checking for total null values if any\n",
    "\n",
    "ds.isnull().sum()"
   ]
  },
  {
   "cell_type": "code",
   "execution_count": null,
   "metadata": {},
   "outputs": [],
   "source": [
    "# Insight of different statistical distribution of features and label\n",
    "\n",
    "ds.describe().T"
   ]
  },
  {
   "cell_type": "code",
   "execution_count": null,
   "metadata": {},
   "outputs": [],
   "source": [
    "# checking for unique variables\n",
    "print(ds['Make'].unique())"
   ]
  },
  {
   "cell_type": "code",
   "execution_count": null,
   "metadata": {},
   "outputs": [],
   "source": [
    "# Putting different transmission sub-catagories into their respective catagories\n",
    "ds['Transmission'] = np.where(ds['Transmission'].isin(['A4','A5','A6','A7','A8','A9','A10']),'Automatic',ds['Transmission'])\n",
    "ds['Transmission'] = np.where(ds['Transmission'].isin(['AS4','AS5','AS6','AS7','AS8','AS9','AS10']),'Automatic of Selective type',ds['Transmission'])\n",
    "ds['Transmission'] = np.where(ds['Transmission'].isin(['AM5','AM6','AM7','AM8','AM9']),'Automated Manual',ds['Transmission'])\n",
    "ds['Transmission'] = np.where(ds['Transmission'].isin(['AV','AV6','AV7','AV8','AV10']),'CVT',ds['Transmission'])\n",
    "ds['Transmission'] = np.where(ds['Transmission'].isin(['M5','M6','M7']),'Manual',ds['Transmission'])\n",
    "\n",
    "print(ds['Transmission'].unique())"
   ]
  },
  {
   "cell_type": "code",
   "execution_count": null,
   "metadata": {},
   "outputs": [],
   "source": [
    "# Renaming fuel types for better understanding\n",
    "\n",
    "print(ds['Fuel Type'].value_counts())\n",
    "\n",
    "ds['Fuel Type']= np.where(ds['Fuel Type']=='X','Regular gasoline',ds['Fuel Type'])\n",
    "ds['Fuel Type']= np.where(ds['Fuel Type']=='Z','Premium gasoline',ds['Fuel Type'])\n",
    "ds['Fuel Type']= np.where(ds['Fuel Type']=='E','Ethanol',ds['Fuel Type'])\n",
    "ds['Fuel Type']= np.where(ds['Fuel Type']=='D','Diesel',ds['Fuel Type'])\n",
    "ds['Fuel Type']= np.where(ds['Fuel Type']=='N','Natural gas',ds['Fuel Type'])\n",
    "\n",
    "print(ds['Fuel Type'].unique())"
   ]
  },
  {
   "cell_type": "code",
   "execution_count": null,
   "metadata": {},
   "outputs": [],
   "source": [
    "print(ds['Vehicle Class'].unique())"
   ]
  },
  {
   "cell_type": "code",
   "execution_count": null,
   "metadata": {},
   "outputs": [],
   "source": [
    "ds.shape"
   ]
  },
  {
   "cell_type": "code",
   "execution_count": null,
   "metadata": {},
   "outputs": [],
   "source": [
    "ds.head()"
   ]
  },
  {
   "cell_type": "code",
   "execution_count": null,
   "metadata": {},
   "outputs": [],
   "source": [
    "ds.corr()['CO2_emission'].sort_values()"
   ]
  },
  {
   "cell_type": "code",
   "execution_count": null,
   "metadata": {},
   "outputs": [],
   "source": [
    "# Correlation between features and label\n",
    "\n",
    "ds.corr()"
   ]
  },
  {
   "cell_type": "markdown",
   "metadata": {},
   "source": [
    "VISUALISATIONS"
   ]
  },
  {
   "cell_type": "code",
   "execution_count": null,
   "metadata": {},
   "outputs": [],
   "source": [
    "# VISUALISATIONS\n",
    "\n",
    "corr = ds.corr()\n",
    "\n",
    "plt.rcParams['figure.figsize']=(10,8)\n",
    "sns.heatmap(corr, cmap='coolwarm', linewidth=0.5, fmt='0.2f', annot=True)\n",
    "\n",
    "plt.title('Correlation')"
   ]
  },
  {
   "cell_type": "code",
   "execution_count": null,
   "metadata": {},
   "outputs": [],
   "source": [
    "# distribution of numerical features\n",
    "# we can seee that the numerical features are little ight skewed.\n",
    "\n",
    "ds.hist(figsize=(10,8),bins=50)"
   ]
  },
  {
   "cell_type": "markdown",
   "metadata": {},
   "source": [
    "FREQUENCY DISTRIBUTION OF DIFFFRENT FEATURES"
   ]
  },
  {
   "cell_type": "code",
   "execution_count": null,
   "metadata": {},
   "outputs": [],
   "source": [
    "#Make\n",
    "plt.figure(figsize=(20,5))\n",
    "\n",
    "ds.groupby('Make')['Make'].count().sort_values(ascending=False).plot(kind='bar',color='red')\n",
    "\n",
    "plt.title('Frequency distribution of cars of different companies', fontsize=25)\n",
    "plt.xlabel('Company', fontsize=20)\n",
    "plt.ylabel('Frequency', fontsize=20)\n",
    "plt.xticks(rotation=45)\n",
    "plt.tight_layout()\n",
    "plt.show()"
   ]
  },
  {
   "cell_type": "code",
   "execution_count": null,
   "metadata": {},
   "outputs": [],
   "source": [
    "# MODEL\n",
    "plt.figure(figsize=(20,5))\n",
    "\n",
    "ds.groupby('Model')['Model'].count().sort_values(ascending=False)[:25].plot(kind='bar')\n",
    "\n",
    "plt.title('Distribution of models', fontsize=25)\n",
    "plt.xlabel('Models', fontsize=20)\n",
    "plt.ylabel('Frequency', fontsize=20)\n",
    "plt.xticks(rotation=90)\n",
    "plt.tight_layout()\n",
    "plt.show()"
   ]
  },
  {
   "cell_type": "code",
   "execution_count": null,
   "metadata": {},
   "outputs": [],
   "source": [
    "# Vehicle Class\n",
    "\n",
    "plt.figure(figsize=(20,5))\n",
    "\n",
    "ds.groupby('Vehicle Class')['Vehicle Class'].count().sort_values(ascending=False).plot(kind='bar', color='green')\n",
    "\n",
    "plt.title('Vehicle class distribution', fontsize=25)\n",
    "plt.xlabel('Vehicle Class', fontsize=20)\n",
    "plt.ylabel('Frequency', fontsize=20)\n",
    "plt.xticks(rotation=45)\n",
    "plt.tight_layout()\n",
    "plt.show()"
   ]
  },
  {
   "cell_type": "code",
   "execution_count": null,
   "metadata": {},
   "outputs": [],
   "source": [
    "# Transmission\n",
    "\n",
    "plt.figure(figsize=(20,5))\n",
    "\n",
    "ds.groupby('Transmission')['Transmission'].count().sort_values(ascending=False).plot(kind='bar', color='magenta')\n",
    "\n",
    "plt.title('Distribution of transmission', fontsize=25)\n",
    "plt.xlabel('Transmission type', fontsize=20)\n",
    "plt.ylabel('Frequency', fontsize=20)\n",
    "plt.xticks(rotation=45)\n",
    "plt.tight_layout()\n",
    "plt.show()"
   ]
  },
  {
   "cell_type": "code",
   "execution_count": null,
   "metadata": {},
   "outputs": [],
   "source": [
    "# Fuel Type\n",
    "\n",
    "plt.figure(figsize=(20,5))\n",
    "\n",
    "ds.groupby('Fuel Type')['Fuel Type'].count().sort_values(ascending=False).plot(kind='bar')\n",
    "\n",
    "plt.title(' Most frequently used Fuel type', fontsize=25)\n",
    "plt.xlabel('Fuel Type', fontsize=20)\n",
    "plt.ylabel('Frequency', fontsize=20)\n",
    "plt.xticks(rotation=45)\n",
    "plt.tight_layout()\n",
    "plt.show()"
   ]
  },
  {
   "cell_type": "code",
   "execution_count": null,
   "metadata": {},
   "outputs": [],
   "source": [
    "# Cylinders\n",
    "\n",
    "plt.figure(figsize=(20,5))\n",
    "\n",
    "ds.groupby('Cylinders')['Cylinders'].count().sort_values(ascending=True).plot(kind='bar', color='purple')\n",
    "\n",
    "plt.title(' Cylinder', fontsize=25)\n",
    "plt.xlabel('Cylinders', fontsize=20)\n",
    "plt.ylabel('Frequency', fontsize=20)\n",
    "plt.xticks(rotation=90)\n",
    "plt.tight_layout()\n",
    "plt.show()"
   ]
  },
  {
   "cell_type": "markdown",
   "metadata": {},
   "source": [
    " FEATURE DISTRIBUTION WITH RESPECT TO CO2 EMISSION"
   ]
  },
  {
   "cell_type": "code",
   "execution_count": null,
   "metadata": {},
   "outputs": [],
   "source": [
    "# Visualisation wrt CO2 emision\n",
    "\n",
    "plt.figure(figsize=(20,5))\n",
    "\n",
    "ds.groupby('Make')['CO2_emission'].mean().sort_values(ascending=False)[:25].plot(kind='bar', color='red')\n",
    "\n",
    "plt.title('Car brands wrt CO2 emission', fontsize=25)\n",
    "plt.xlabel('Car brands', fontsize=20)\n",
    "plt.ylabel('CO2 emission', fontsize=20)\n",
    "plt.xticks(rotation=90)\n",
    "plt.tight_layout()\n",
    "plt.show()"
   ]
  },
  {
   "cell_type": "code",
   "execution_count": null,
   "metadata": {},
   "outputs": [],
   "source": [
    "plt.figure(figsize=(20,5))\n",
    "\n",
    "ds.groupby('Model')['CO2_emission'].mean().sort_values(ascending=False)[:25].plot(kind='bar', color='blue')\n",
    "\n",
    "plt.title(' Car models generating most of CO2', fontsize=25)\n",
    "plt.xlabel(' Car Models', fontsize=20)\n",
    "plt.ylabel('CO2 emission', fontsize=20)\n",
    "plt.xticks(rotation=90)\n",
    "plt.tight_layout()\n",
    "plt.show()"
   ]
  },
  {
   "cell_type": "code",
   "execution_count": null,
   "metadata": {},
   "outputs": [],
   "source": [
    "plt.figure(figsize=(20,5))\n",
    "\n",
    "ds.groupby('Vehicle Class')['CO2_emission'].mean().sort_values(ascending=False).plot(kind='bar',color='m')\n",
    "\n",
    "plt.title('Vehicle class wrt CO2 emission', fontsize=25)\n",
    "plt.xlabel('Vehicle class' , fontsize=20)\n",
    "plt.ylabel('Co2 emission', fontsize=20)\n",
    "plt.xticks(rotation=45)\n",
    "plt.tight_layout()\n",
    "plt.show()"
   ]
  },
  {
   "cell_type": "code",
   "execution_count": null,
   "metadata": {},
   "outputs": [],
   "source": [
    "plt.figure(figsize=(20,5))\n",
    "\n",
    "ds.groupby('Fuel Type')['CO2_emission'].mean().sort_values(ascending=False).plot(kind='bar',color='g')\n",
    "\n",
    "plt.title('Fuel type wrt CO2 emission', fontsize=25)\n",
    "plt.xlabel('Fuel Type', fontsize=20)\n",
    "plt.ylabel('Co2 emission', fontsize=20)\n",
    "plt.xticks(rotation=45)\n",
    "plt.tight_layout()\n",
    "plt.show()"
   ]
  },
  {
   "cell_type": "code",
   "execution_count": null,
   "metadata": {},
   "outputs": [],
   "source": [
    "\n",
    "fuel_type = ds.groupby('Fuel Type')['CO2_emission'].median().sort_values(ascending=False).index\n",
    "plt.figure(figsize=(10,8))\n",
    "sns.boxplot(x = 'Fuel Type', y='CO2_emission', data =ds, order=fuel_type, width=0.5)\n",
    "plt.xticks(rotation=45, horizontalalignment='center')\n",
    "\n",
    "plt.show()"
   ]
  },
  {
   "cell_type": "code",
   "execution_count": null,
   "metadata": {},
   "outputs": [],
   "source": [
    "plt.figure(figsize=(20,5))\n",
    "\n",
    "ds.groupby('Transmission')['CO2_emission'].mean().sort_values(ascending=False).plot(kind='bar')\n",
    "\n",
    "plt.title('Transmission wrt CO2 emission', fontsize=25)\n",
    "plt.xlabel('Transmission type', fontsize=20)\n",
    "plt.ylabel('CO2 emission', fontsize=20)\n",
    "plt.xticks(rotation=45)\n",
    "plt.tight_layout()\n",
    "plt.show()"
   ]
  },
  {
   "cell_type": "code",
   "execution_count": null,
   "metadata": {},
   "outputs": [],
   "source": [
    "plt.figure(figsize=(10,8))\n",
    "sns.barplot(x = 'Fuel Consumption Comb (mpg)', y='CO2_emission', data =ds[:25])\n",
    "\n",
    "plt.xticks(rotation=45)\n",
    "plt.show()"
   ]
  },
  {
   "cell_type": "code",
   "execution_count": null,
   "metadata": {},
   "outputs": [],
   "source": [
    "\n",
    "plt.figure(figsize=(10,8))\n",
    "\n",
    "sns.catplot(x='Cylinders', y='Fuel Consumption Comb (mpg)',data = ds)\n",
    "\n",
    "plt.show()  "
   ]
  },
  {
   "cell_type": "code",
   "execution_count": null,
   "metadata": {
    "scrolled": true
   },
   "outputs": [],
   "source": [
    "plt.figure(figsize=(10,8))\n",
    "\n",
    "sns.catplot(x='Cylinders', y='CO2_emission',data = ds)\n",
    "\n",
    "plt.show()                                # co2 emission increases with increasing no of cylinders"
   ]
  },
  {
   "cell_type": "code",
   "execution_count": null,
   "metadata": {},
   "outputs": [],
   "source": [
    "\n",
    "plt.figure(figsize=(10,8))\n",
    "sns.boxplot(x = 'Fuel Type', y='Fuel Consumption Comb (mpg)', data =ds)\n",
    "\n",
    "plt.xticks([0,1,2,3,4],['Premium Gasoline','Disel', 'Regular Gasoline','Ethanol', 'Natural Gas'])\n",
    "plt.show()                           # efficiency of fuel "
   ]
  },
  {
   "cell_type": "markdown",
   "metadata": {
    "tags": []
   },
   "source": [
    "# DATA PREPROCESSING"
   ]
  },
  {
   "cell_type": "code",
   "execution_count": null,
   "metadata": {},
   "outputs": [],
   "source": [
    "# DATA PREPROCESSING\n",
    "\n",
    "ds.head()"
   ]
  },
  {
   "cell_type": "code",
   "execution_count": null,
   "metadata": {},
   "outputs": [],
   "source": [
    "ds['Transmission'].value_counts()"
   ]
  },
  {
   "cell_type": "code",
   "execution_count": null,
   "metadata": {},
   "outputs": [],
   "source": [
    "ds['Fuel Type'].value_counts()"
   ]
  },
  {
   "cell_type": "code",
   "execution_count": null,
   "metadata": {},
   "outputs": [],
   "source": [
    "# Dropping natural gas as there is only one data we have which would not make much difference in modelling\n",
    "\n",
    "ds_N = ds[ds['Fuel Type']== 'Natural gas']\n",
    "\n",
    "ind = ds_N.index\n",
    "\n",
    "ds_N"
   ]
  },
  {
   "cell_type": "code",
   "execution_count": null,
   "metadata": {},
   "outputs": [],
   "source": [
    "for i in ind:\n",
    "    ds.drop(i, axis=0, inplace=True)     "
   ]
  },
  {
   "cell_type": "code",
   "execution_count": null,
   "metadata": {},
   "outputs": [],
   "source": [
    "ds[ds['Fuel Type']=='Natural gas']"
   ]
  },
  {
   "cell_type": "code",
   "execution_count": null,
   "metadata": {},
   "outputs": [],
   "source": [
    "# creating dummy variables of fuel type and transmission (catagorical features)\n",
    "\n",
    "d_v =pd.get_dummies(ds['Fuel Type'], prefix='Fuel', drop_first=True)\n",
    "dv = pd.get_dummies(ds[\"Transmission\"], drop_first=True)\n",
    "d_v.head()\n"
   ]
  },
  {
   "cell_type": "code",
   "execution_count": null,
   "metadata": {},
   "outputs": [],
   "source": [
    "dv.head()"
   ]
  },
  {
   "cell_type": "code",
   "execution_count": null,
   "metadata": {},
   "outputs": [],
   "source": [
    "df = [ds, d_v,dv]\n",
    "\n",
    "data = pd.concat(df, axis=1)\n",
    "data.head()"
   ]
  },
  {
   "cell_type": "code",
   "execution_count": null,
   "metadata": {
    "scrolled": true
   },
   "outputs": [],
   "source": [
    "data.drop(['Fuel Type'], inplace=True, axis=1)\n",
    "data.drop(['Transmission'], inplace=True, axis=1)\n",
    "\n",
    "                         "
   ]
  },
  {
   "cell_type": "markdown",
   "metadata": {},
   "source": [
    "HANDLING OTHER CATAGORICAL FEATURES HAVING MULTIPLE CATAGORIES (MAKE , MODEL, VEHICLE CLASS)"
   ]
  },
  {
   "cell_type": "code",
   "execution_count": null,
   "metadata": {},
   "outputs": [],
   "source": [
    "df_freq = data['Make'].value_counts().to_dict()\n",
    "mod_freq = data['Model'].value_counts().to_dict()\n",
    "veh_freq = data['Vehicle Class'].value_counts().to_dict()"
   ]
  },
  {
   "cell_type": "code",
   "execution_count": null,
   "metadata": {},
   "outputs": [],
   "source": [
    "data['Make'] = data['Make'].map(df_freq)\n",
    "data['Model'] = data['Model'].map(mod_freq)\n",
    "data['Vehicle Class'] = data['Vehicle Class'].map(veh_freq)"
   ]
  },
  {
   "cell_type": "code",
   "execution_count": null,
   "metadata": {},
   "outputs": [],
   "source": [
    "data.head()"
   ]
  },
  {
   "cell_type": "markdown",
   "metadata": {},
   "source": [
    "DIVIDING DATA SET INTO INDEPENDENT AND DEPENDENT VARIABLE"
   ]
  },
  {
   "cell_type": "code",
   "execution_count": null,
   "metadata": {},
   "outputs": [],
   "source": [
    "X = data.drop('CO2_emission', axis=1)\n",
    "y = data['CO2_emission']"
   ]
  },
  {
   "cell_type": "code",
   "execution_count": null,
   "metadata": {},
   "outputs": [],
   "source": [
    "X.head()"
   ]
  },
  {
   "cell_type": "code",
   "execution_count": null,
   "metadata": {},
   "outputs": [],
   "source": [
    "y.head()"
   ]
  },
  {
   "cell_type": "code",
   "execution_count": null,
   "metadata": {},
   "outputs": [],
   "source": [
    "data.shape"
   ]
  },
  {
   "cell_type": "markdown",
   "metadata": {},
   "source": [
    "FEATURE SELECTION USING CHI-SQUARE TEST"
   ]
  },
  {
   "cell_type": "code",
   "execution_count": null,
   "metadata": {},
   "outputs": [],
   "source": [
    "from sklearn.feature_selection import SelectKBest\n",
    "from sklearn.feature_selection import chi2"
   ]
  },
  {
   "cell_type": "code",
   "execution_count": null,
   "metadata": {},
   "outputs": [],
   "source": [
    "ranked_feature = SelectKBest(score_func = chi2, k='all')\n",
    "ordered_feature = ranked_feature.fit(X, y)\n"
   ]
  },
  {
   "cell_type": "code",
   "execution_count": null,
   "metadata": {},
   "outputs": [],
   "source": [
    "top_feat = pd.DataFrame(ordered_feature.scores_ , columns=['score'])\n",
    "top_feat['variables'] = X.columns"
   ]
  },
  {
   "cell_type": "code",
   "execution_count": null,
   "metadata": {},
   "outputs": [],
   "source": [
    "top_feat.sort_values(by='score', ascending=False)"
   ]
  },
  {
   "cell_type": "markdown",
   "metadata": {},
   "source": [
    "CREATING TRAINING SET AND TESTING SET"
   ]
  },
  {
   "cell_type": "code",
   "execution_count": null,
   "metadata": {},
   "outputs": [],
   "source": [
    "# splitting of traing testing set into X and y\n",
    "\n",
    "from sklearn.model_selection import train_test_split\n",
    "\n",
    "X_train,X_test, y_train, y_test = train_test_split(X, y, test_size=0.2, random_state=42)"
   ]
  },
  {
   "cell_type": "code",
   "execution_count": null,
   "metadata": {},
   "outputs": [],
   "source": [
    "print(X_train.shape)\n",
    "print(X_test.shape)\n",
    "print(y_train.shape)\n",
    "print(y_test.shape)"
   ]
  },
  {
   "cell_type": "code",
   "execution_count": null,
   "metadata": {},
   "outputs": [],
   "source": [
    "y_test.head()"
   ]
  },
  {
   "cell_type": "markdown",
   "metadata": {},
   "source": [
    "FEATURE SCALING USING STANDARDIZATION "
   ]
  },
  {
   "cell_type": "code",
   "execution_count": null,
   "metadata": {},
   "outputs": [],
   "source": [
    "# STANDARDIZATION\n",
    "from sklearn.preprocessing import StandardScaler"
   ]
  },
  {
   "cell_type": "code",
   "execution_count": null,
   "metadata": {},
   "outputs": [],
   "source": [
    "scaler =StandardScaler()\n",
    "\n",
    "X_train = scaler.fit_transform(X_train)\n",
    "X_test = scaler.transform(X_test)"
   ]
  },
  {
   "cell_type": "code",
   "execution_count": null,
   "metadata": {},
   "outputs": [],
   "source": [
    "X_train"
   ]
  },
  {
   "cell_type": "code",
   "execution_count": null,
   "metadata": {},
   "outputs": [],
   "source": [
    "data['CO2_emission'].mean()"
   ]
  },
  {
   "cell_type": "markdown",
   "metadata": {},
   "source": [
    "# MODEL IMPLEMENTATION (Approach 1)"
   ]
  },
  {
   "cell_type": "markdown",
   "metadata": {},
   "source": [
    "# LINEAR REGRESSION"
   ]
  },
  {
   "cell_type": "code",
   "execution_count": null,
   "metadata": {},
   "outputs": [],
   "source": [
    "model = LinearRegression()\n",
    "model.fit(X_train, y_train)"
   ]
  },
  {
   "cell_type": "code",
   "execution_count": null,
   "metadata": {},
   "outputs": [],
   "source": [
    "model.intercept_"
   ]
  },
  {
   "cell_type": "code",
   "execution_count": null,
   "metadata": {},
   "outputs": [],
   "source": [
    "model.coef_"
   ]
  },
  {
   "cell_type": "code",
   "execution_count": null,
   "metadata": {},
   "outputs": [],
   "source": [
    "y_pred = model.predict(X_test)\n",
    "y_pred"
   ]
  },
  {
   "cell_type": "code",
   "execution_count": null,
   "metadata": {},
   "outputs": [],
   "source": [
    "np.sqrt(mean_squared_error(y_test, y_pred))"
   ]
  },
  {
   "cell_type": "code",
   "execution_count": null,
   "metadata": {},
   "outputs": [],
   "source": [
    "r2_score(y_test, y_pred)"
   ]
  },
  {
   "cell_type": "code",
   "execution_count": null,
   "metadata": {},
   "outputs": [],
   "source": [
    "frames = [y_pred, y_test.values]\n",
    "result_pred = pd.DataFrame(data=frames)\n",
    "result_pred = result_pred.T"
   ]
  },
  {
   "cell_type": "code",
   "execution_count": null,
   "metadata": {},
   "outputs": [],
   "source": [
    "lin_pred = result_pred.rename(columns={0: 'pred_values',1:'real_values'})\n",
    "lin_pred['pred_values'] = lin_pred['pred_values'].map(lambda x: round(x,2))\n",
    "\n",
    "lin_pred"
   ]
  },
  {
   "cell_type": "code",
   "execution_count": null,
   "metadata": {},
   "outputs": [],
   "source": [
    "lin_pred['diff'] = abs(lin_pred['pred_values'] - lin_pred['real_values'])\n",
    "\n",
    "print('mean diff: ', (abs(lin_pred['diff']).mean()))"
   ]
  },
  {
   "cell_type": "code",
   "execution_count": null,
   "metadata": {},
   "outputs": [],
   "source": [
    "lin_pred.head(10)"
   ]
  },
  {
   "cell_type": "code",
   "execution_count": null,
   "metadata": {},
   "outputs": [],
   "source": [
    "sns.displot(y_pred-y_test)"
   ]
  },
  {
   "cell_type": "code",
   "execution_count": null,
   "metadata": {},
   "outputs": [],
   "source": [
    "plt.scatter( y_test,y_pred)\n",
    "plt.xlabel('y_test')\n",
    "plt.ylabel('y_pred')"
   ]
  },
  {
   "cell_type": "code",
   "execution_count": null,
   "metadata": {},
   "outputs": [],
   "source": [
    "sns.displot(y_pred, bins=20,color='red')\n",
    "plt.show()\n",
    "sns.displot(data['CO2_emission'], bins=20)\n",
    "plt.show()"
   ]
  },
  {
   "cell_type": "markdown",
   "metadata": {},
   "source": [
    "# DECISION TREE REGRESSION"
   ]
  },
  {
   "cell_type": "code",
   "execution_count": null,
   "metadata": {},
   "outputs": [],
   "source": [
    "from sklearn.tree import DecisionTreeRegressor\n",
    "\n",
    "model = DecisionTreeRegressor(random_state = 42)\n",
    "\n",
    "model.fit(X_train, y_train)"
   ]
  },
  {
   "cell_type": "code",
   "execution_count": null,
   "metadata": {},
   "outputs": [],
   "source": [
    "dtr_pred = model.predict(X_test)\n",
    "dtr_pred"
   ]
  },
  {
   "cell_type": "code",
   "execution_count": null,
   "metadata": {},
   "outputs": [],
   "source": [
    "np.sqrt(mean_squared_error(y_test,dtr_pred ))"
   ]
  },
  {
   "cell_type": "code",
   "execution_count": null,
   "metadata": {},
   "outputs": [],
   "source": [
    "r2_score(y_test, dtr_pred)"
   ]
  },
  {
   "cell_type": "code",
   "execution_count": null,
   "metadata": {
    "scrolled": true
   },
   "outputs": [],
   "source": [
    "frames = [dtr_pred, y_test.values]\n",
    "result_pred = pd.DataFrame(data=frames)\n",
    "result_pred = result_pred.T\n",
    "result_pred.head()"
   ]
  },
  {
   "cell_type": "code",
   "execution_count": null,
   "metadata": {},
   "outputs": [],
   "source": [
    "dtr_pred = result_pred.rename(columns={0: 'pred_values', 1:'real_values'})\n",
    "dtr_pred['pred_values'] = (dtr_pred['pred_values'].map(lambda x: round(x,2)))\n",
    "\n",
    "dtr_pred['diff'] = abs(dtr_pred['real_values'] -dtr_pred['pred_values'])\n",
    "\n",
    "\n",
    "print('mean diff: ', abs(dtr_pred['diff']).mean())"
   ]
  },
  {
   "cell_type": "code",
   "execution_count": null,
   "metadata": {},
   "outputs": [],
   "source": [
    "dtr_pred.head(10)"
   ]
  },
  {
   "cell_type": "markdown",
   "metadata": {},
   "source": [
    "# RANDOM FOREST"
   ]
  },
  {
   "cell_type": "code",
   "execution_count": null,
   "metadata": {},
   "outputs": [],
   "source": [
    "rf_model = RandomForestRegressor()\n",
    "rf_model.fit(X_train, y_train)"
   ]
  },
  {
   "cell_type": "code",
   "execution_count": null,
   "metadata": {},
   "outputs": [],
   "source": [
    "y_rf_pred = rf_model.predict(X_test)\n",
    "y_rf_pred"
   ]
  },
  {
   "cell_type": "code",
   "execution_count": null,
   "metadata": {},
   "outputs": [],
   "source": [
    "print('RMSE: {:0.4f}'.format(np.sqrt(mean_squared_error(y_test,y_rf_pred))))\n",
    "print('MAE: {:0.4f}'.format(mean_absolute_error(y_test,y_rf_pred)))\n",
    "print('R2_score: {:0.4f}'.format(r2_score(y_test,y_rf_pred)))"
   ]
  },
  {
   "cell_type": "code",
   "execution_count": null,
   "metadata": {},
   "outputs": [],
   "source": [
    "frames = [y_rf_pred, y_test.values]\n",
    "result_pred = pd.DataFrame(data=frames)\n",
    "result_pred = result_pred.T\n",
    "result_pred.head()"
   ]
  },
  {
   "cell_type": "code",
   "execution_count": null,
   "metadata": {},
   "outputs": [],
   "source": [
    "y_rf_pred = result_pred.rename(columns={0: 'pred_values', 1:'real_values'})\n",
    "y_rf_pred['pred_values'] = (y_rf_pred['pred_values'].map(lambda x: round(x,2)))\n",
    "\n",
    "y_rf_pred['diff'] = abs(y_rf_pred['real_values'] -y_rf_pred['pred_values'])\n",
    "\n",
    "\n",
    "print('mean diff: ', abs(y_rf_pred['diff']).mean())"
   ]
  },
  {
   "cell_type": "code",
   "execution_count": null,
   "metadata": {},
   "outputs": [],
   "source": [
    "y_rf_pred.head(10)"
   ]
  },
  {
   "cell_type": "markdown",
   "metadata": {},
   "source": [
    "# SIMPLE VECTOR MACHINE"
   ]
  },
  {
   "cell_type": "code",
   "execution_count": null,
   "metadata": {},
   "outputs": [],
   "source": [
    "from sklearn.svm import LinearSVR\n",
    "model = LinearSVR()\n",
    "model.fit(X_train, y_train)\n",
    "y_svr_pred = model.predict(X_test)\n",
    "y_svr_pred"
   ]
  },
  {
   "cell_type": "code",
   "execution_count": null,
   "metadata": {},
   "outputs": [],
   "source": [
    "np.sqrt(mean_squared_error(y_svr_pred,y_test))"
   ]
  },
  {
   "cell_type": "code",
   "execution_count": null,
   "metadata": {},
   "outputs": [],
   "source": [
    "r2_score(y_svr_pred,y_test)"
   ]
  },
  {
   "cell_type": "code",
   "execution_count": null,
   "metadata": {},
   "outputs": [],
   "source": [
    "frames = [y_svr_pred, y_test.values]\n",
    "result_pred = pd.DataFrame(data=frames)\n",
    "result_pred = result_pred.T\n",
    "result_pred.head()"
   ]
  },
  {
   "cell_type": "code",
   "execution_count": null,
   "metadata": {},
   "outputs": [],
   "source": [
    "y_svr_pred = result_pred.rename(columns={0: 'pred_values', 1:'real_values'})\n",
    "y_svr_pred['pred_values'] = (y_svr_pred['pred_values'].map(lambda x: round(x,2)))\n",
    "\n",
    "y_svr_pred['diff'] = abs(y_svr_pred['real_values'] -y_svr_pred['pred_values'])\n",
    "\n",
    "\n",
    "print('mean diff: ', abs(y_svr_pred['diff']).mean())"
   ]
  },
  {
   "cell_type": "code",
   "execution_count": null,
   "metadata": {},
   "outputs": [],
   "source": [
    "y_svr_pred.head(10)"
   ]
  },
  {
   "cell_type": "markdown",
   "metadata": {},
   "source": [
    "#  APPROACH 2"
   ]
  },
  {
   "cell_type": "code",
   "execution_count": null,
   "metadata": {},
   "outputs": [],
   "source": [
    "models =['LinReg','DT', 'RF','SVR']\n",
    "\n",
    "frame = pd.DataFrame(columns={'models':[],'rmse_train':[], 'mae_train':[],'r2_train':[] ,'rmse_test':[], 'mae_test':[],'r2_test':[]})\n",
    "\n",
    "\n",
    "\n",
    "\n",
    "for i in range(len(models)):\n",
    "    if models[i] == 'LinReg':\n",
    "        model = LinearRegression()\n",
    "        model.fit(X_train,y_train)\n",
    "        pred_train = model.predict(X_train)\n",
    "        rmse_train = np.sqrt(mean_squared_error(y_train,pred_train))\n",
    "        mae_train = mean_absolute_error(y_train,pred_train)\n",
    "        r2_train = r2_score(y_train,pred_train)\n",
    "        \n",
    "        pred_test = model.predict(X_test)\n",
    "        rmse_test = np.sqrt(mean_squared_error(y_test,pred_test))\n",
    "        mae_test = mean_absolute_error(y_test,pred_test)\n",
    "        r2_test = r2_score(y_test,pred_test)\n",
    "        frame.loc[frame.shape[0]] = ['Linear Regression', rmse_train, mae_train,r2_train,rmse_test,mae_test,r2_test]\n",
    "        \n",
    "        \n",
    "    elif models[i] =='DT':\n",
    "        model = DecisionTreeRegressor()\n",
    "        model.fit(X_train,y_train)\n",
    "        pred_train = model.predict(X_train)\n",
    "        rmse_train = np.sqrt(mean_squared_error(y_train,pred_train))\n",
    "        mae_train = mean_absolute_error(y_train,pred_train)\n",
    "        r2_train = r2_score(y_train,pred_train)\n",
    "        \n",
    "        pred_test = model.predict(X_test)\n",
    "        rmse_test = np.sqrt(mean_squared_error(y_test,pred_test))\n",
    "        mae_test = mean_absolute_error(y_test,pred_test)\n",
    "        r2_test = r2_score(y_test,pred_test)\n",
    "        frame.loc[frame.shape[0]] = ['Decision Tree Regression',rmse_train, mae_train,r2_train,rmse_test,mae_test,r2_test]\n",
    "        \n",
    "    elif models[i] =='RF':\n",
    "        model = RandomForestRegressor()\n",
    "        model.fit(X_train,y_train)\n",
    "        pred_train = model.predict(X_train)\n",
    "        rmse_train = np.sqrt(mean_squared_error(y_train,pred_train))\n",
    "        mae_train = mean_absolute_error(y_train,pred_train)\n",
    "        r2_train = r2_score(y_train,pred_train)\n",
    "       \n",
    "        pred_test = model.predict(X_test)\n",
    "        rmse_test = np.sqrt(mean_squared_error(y_test,pred_test))\n",
    "        mae_test = mean_absolute_error(y_test,pred_test)\n",
    "        r2_test = r2_score(y_test,pred_test)\n",
    "        frame.loc[frame.shape[0]] = ['Random Forest Regression',rmse_train, mae_train,r2_train,rmse_test,mae_test,r2_test]\n",
    "        \n",
    "    else :\n",
    "        models[i] =='SVM'\n",
    "        model = LinearSVR()\n",
    "        model.fit(X_train,y_train)\n",
    "        pred_train = model.predict(X_train)\n",
    "        rmse_train = np.sqrt(mean_squared_error(y_train,pred_train))\n",
    "        mae_train = mean_absolute_error(y_train,pred_train)\n",
    "        r2_train = r2_score(y_train,pred_train)\n",
    "        \n",
    "        pred_test = model.predict(X_test)\n",
    "        rmse_test = np.sqrt(mean_squared_error(y_test,pred_test))\n",
    "        mae_test = mean_absolute_error(y_test,pred_test)\n",
    "        r2_test = r2_score(y_test,pred_test)\n",
    "        frame.loc[frame.shape[0]] = ['Simple Vector Regression',rmse_train, mae_train,r2_train,rmse_test,mae_test,r2_test]"
   ]
  },
  {
   "cell_type": "markdown",
   "metadata": {},
   "source": [
    "OVERALL PERFORMANCE OF ALL MODELS IN A DATAFRAME"
   ]
  },
  {
   "cell_type": "code",
   "execution_count": null,
   "metadata": {},
   "outputs": [],
   "source": [
    "frame"
   ]
  }
 ],
 "metadata": {
  "kernelspec": {
   "display_name": "Python 3",
   "language": "python",
   "name": "python3"
  },
  "language_info": {
   "codemirror_mode": {
    "name": "ipython",
    "version": 3
   },
   "file_extension": ".py",
   "mimetype": "text/x-python",
   "name": "python",
   "nbconvert_exporter": "python",
   "pygments_lexer": "ipython3",
   "version": "3.8.8"
  }
 },
 "nbformat": 4,
 "nbformat_minor": 4
}
